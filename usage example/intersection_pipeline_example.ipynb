{
 "cells": [
  {
   "cell_type": "code",
   "execution_count": null,
   "metadata": {},
   "outputs": [],
   "source": [
    "import numpy as np\n",
    "import matplotlib.pyplot as plt\n",
    "from mytool import uav_traffic_tool\n",
    "tool = uav_traffic_tool.Wiz()"
   ]
  },
  {
   "cell_type": "code",
   "execution_count": null,
   "metadata": {},
   "outputs": [],
   "source": [
    "dataset_information={\n",
    "    'day':'24Oct',\n",
    "    'month':'10',\n",
    "    'drone':'2',\n",
    "    'time_period':'0900_0930',\n",
    "    'road':'Panepistimiou',\n",
    "    'intersection':'Panepistimiou-Omirou'\n",
    "    }\n",
    "\n",
    "nickname = f'Drone{dataset_information.get('drone')}_{dataset_information.get('day')}_{dataset_information.get('time_period')}'\n",
    "file_path= fr'C:\\Users\\kpourg01\\Desktop\\Work\\Code\\pNEUMA\\datasets\\{dataset_information.get('road')}/2018{dataset_information.get('month')}{dataset_information.get('day')[:2]}_d{dataset_information.get('drone')}_{dataset_information.get('time_period')}.csv'"
   ]
  },
  {
   "cell_type": "code",
   "execution_count": null,
   "metadata": {},
   "outputs": [],
   "source": [
    "#sampling period must be integer multiple of 0.04\n",
    "period_dataloading=0.2\n",
    "time_decimals=1\n",
    "#===========================================================================================\n",
    "from tests.dataload_example import get_info_pneuma as infoloader \n",
    "raw_vd = infoloader(file_path=file_path, sampling_period=period_dataloading, time_decimals=time_decimals, position_smoothing=2)"
   ]
  },
  {
   "cell_type": "code",
   "execution_count": null,
   "metadata": {},
   "outputs": [],
   "source": [
    "period_flowcount=1\n",
    "#----------------------------------------------------\n",
    "time_axis = np.round(np.arange(min(min(set) for set in raw_vd.get('time')),max(max(set) for set in raw_vd.get('time'))+period_flowcount,period_flowcount),decimals=time_decimals).tolist()\n",
    "#----------------------------------------------------\n",
    "wgs=True\n",
    "#----------------------------------------------------\n",
    "ll_lat,ll_lon = 37.97811671602297, 23.733975874806358\n",
    "lr_lat,lr_lon = 37.97876143771719, 23.735210640421347\n",
    "ur_lat,ur_lon = 37.97938790250702, 23.734674127747873\n",
    "ul_lat,ul_lon = 37.97874587304865, 23.73345028699124\n",
    "#----------------------------------------------------\n",
    "clat,clon = 37.97866950849114, 23.734362398006162\n",
    "#----------------------------------------------------\n",
    "bbox = [(ll_lat,ll_lon), \n",
    "        (lr_lat,lr_lon),\n",
    "        (ur_lat,ur_lon),\n",
    "        (ul_lat,ul_lon)]\n",
    "#----------------------------------------------------\n",
    "spatio_temporal_info =  {'wgs':wgs,'bbox':bbox,'x center': clon,'y center': clat,'time axis': time_axis}"
   ]
  },
  {
   "cell_type": "code",
   "execution_count": null,
   "metadata": {},
   "outputs": [],
   "source": [
    "dataloader = tool.dataloader(raw_vd, wgs, bbox)\n",
    "filtered_vd = dataloader.get_filtered_vd(cursed_ids=[208,1442,75,2450,140,1151,1469,628,2941,154,917])\n",
    "analysis = tool.analysis(filtered_vd,spatio_temporal_info)\n",
    "visualization = tool.visualization(filtered_vd,spatio_temporal_info)"
   ]
  },
  {
   "cell_type": "code",
   "execution_count": null,
   "metadata": {},
   "outputs": [],
   "source": [
    "od_pairs = analysis.get_od_pairs()\n",
    "valid_od_pairs = [(1,3),(1,2),(4,3),(4,2)]\n",
    "visualization.draw_trajectories_od(valid_od_pairs)"
   ]
  },
  {
   "cell_type": "code",
   "execution_count": null,
   "metadata": {},
   "outputs": [],
   "source": [
    "vd_13_12 = analysis.get_od_vd(desirable_pairs=[(1,3),(1,2)])\n",
    "analysis_13_12 = tool.analysis(vd_13_12,spatio_temporal_info)\n",
    "visualization_13_12 = tool.visualization(vd_13_12,spatio_temporal_info)\n",
    "#----------------------------------------------------------------------\n",
    "vd_43_42 = analysis.get_od_vd(desirable_pairs=[(4,3),(4,2)])\n",
    "analysis_43_42 = tool.analysis(vd_43_42,spatio_temporal_info)\n",
    "visualization_43_42 = tool.visualization(vd_43_42,spatio_temporal_info)"
   ]
  },
  {
   "cell_type": "code",
   "execution_count": null,
   "metadata": {},
   "outputs": [],
   "source": [
    "lane_info_13_12 = analysis_13_12.get_lane_info(flow_direction='up')"
   ]
  },
  {
   "cell_type": "code",
   "execution_count": null,
   "metadata": {},
   "outputs": [],
   "source": [
    "lane_info_43_42 = analysis_43_42.get_lane_info(flow_direction='left')"
   ]
  },
  {
   "cell_type": "code",
   "execution_count": null,
   "metadata": {},
   "outputs": [],
   "source": [
    "sorted_id_13_12 =analysis_13_12.get_sorted_id()\n",
    "gaps_13_12 = analysis_13_12.get_gaps()\n",
    "#-=============================================\n",
    "sorted_id_43_42 = analysis_43_42.get_sorted_id()\n",
    "gaps_43_42 = analysis_43_42.get_gaps()"
   ]
  },
  {
   "cell_type": "code",
   "execution_count": null,
   "metadata": {},
   "outputs": [],
   "source": [
    "detector_positions_13_12 = [\n",
    "                            (37.978598063851116, 23.73433701749522),\n",
    "                            (37.97861444910225, 23.73438060338954),\n",
    "                            (37.978632948574926, 23.734412119343897),\n",
    "                            (37.978652505155274, 23.734447658611572),\n",
    "                            (37.978666776170066, 23.734481856774803)\n",
    "                            ]\n",
    "#---------------------------\n",
    "flow_info_13_12 = analysis_13_12.get_flow_info(detector_positions_13_12)\n",
    "flow_13_12,normalized_flow_13_12 = analysis_13_12.get_normalized_flow(threshold=10)\n",
    "#============================\n",
    "detector_positions_43_42 = [(37.97872544586954, 23.73444095309425)]\n",
    "#----------------------------\n",
    "flow_info_43_42 = analysis_43_42.get_flow_info(detector_positions_43_42)\n",
    "flow_43_42,normalized_flow_43_42 = analysis_43_42.get_normalized_flow(threshold=15)"
   ]
  },
  {
   "cell_type": "code",
   "execution_count": null,
   "metadata": {},
   "outputs": [],
   "source": [
    "print(f'flow counts main: {sum(flow_13_12)}, max vehicles: {len(vd_13_12.get('id'))}')\n",
    "print(f'\\nflow counts secondary: {sum(flow_43_42)}, max vehicles: {len(vd_43_42.get('id'))}')"
   ]
  },
  {
   "cell_type": "code",
   "execution_count": null,
   "metadata": {},
   "outputs": [],
   "source": [
    "plt.figure(figsize=(22,3))\n",
    "plt.title('Flow vs Time')\n",
    "\n",
    "plt.plot(time_axis,normalized_flow_13_12,color='purple',alpha=1, label=f'{dataset_information.get('road')} Detector',linewidth=2)\n",
    "#plt.plot(time_axis,flow_13_12,color='purple',label='raw flow',alpha=0.4)\n",
    "#---------------------------------------------------------------------------------------------------------------------------------------------------------------------------------------------\n",
    "plt.plot(time_axis,normalized_flow_43_42,color='orange',alpha=1,label=f'{dataset_information.get('intersection')[dataset_information.get('intersection').index('-')+1:]} Detector',linewidth=2)\n",
    "#plt.plot(time_axis,flow_43_42,color='orange',label='raw flow',alpha=1)\n",
    "\n",
    "plt.xlabel('Time (s)')\n",
    "plt.yticks([0,1],['Detector OFF','Detector ON'])\n",
    "plt.xticks(np.arange(0,time_axis[-1],25))\n",
    "plt.ylim(-0.1,2)\n",
    "\n",
    "\n",
    "activate_zoom = False\n",
    "#===================================\n",
    "if activate_zoom:\n",
    "    lowlim,highlim=275,300\n",
    "    plt.xlim(lowlim,highlim)\n",
    "    plt.xticks(np.arange(lowlim,highlim+period_flowcount,period_flowcount))\n",
    "    analysis_43_42.get_cursed_id(lowlim,highlim)\n",
    "#===================================\n",
    "\n",
    "plt.legend()\n",
    "plt.tight_layout()\n",
    "plt.show(close=True)"
   ]
  },
  {
   "cell_type": "code",
   "execution_count": null,
   "metadata": {},
   "outputs": [],
   "source": [
    "tlp_13_12 = analysis_13_12.get_traffic_light_phases()\n",
    "tlp_43_42 = analysis_43_42.get_traffic_light_phases()\n",
    "#==================================================\n",
    "cycles = analysis.get_traffic_light_cycles(tlp_13_12,tlp_43_42)"
   ]
  },
  {
   "cell_type": "code",
   "execution_count": null,
   "metadata": {},
   "outputs": [],
   "source": [
    "queue_info_13_12 = analysis_13_12.get_queue_info(speed_threshold=30, gap_threshold=10)\n",
    "queue_info_43_42 = analysis_43_42.get_queue_info(speed_threshold=30, gap_threshold=10)"
   ]
  }
 ],
 "metadata": {
  "kernelspec": {
   "display_name": "KIOS",
   "language": "python",
   "name": "python3"
  },
  "language_info": {
   "codemirror_mode": {
    "name": "ipython",
    "version": 3
   },
   "file_extension": ".py",
   "mimetype": "text/x-python",
   "name": "python",
   "nbconvert_exporter": "python",
   "pygments_lexer": "ipython3",
   "version": "3.12.8"
  }
 },
 "nbformat": 4,
 "nbformat_minor": 2
}
