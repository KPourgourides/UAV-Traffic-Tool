{
 "cells": [
  {
   "cell_type": "code",
   "execution_count": null,
   "metadata": {},
   "outputs": [],
   "source": [
    "import numpy as np\n",
    "import matplotlib.pyplot as plt\n",
    "import pandas as pd\n",
    "from scipy.ndimage import gaussian_filter\n",
    "import importlib\n",
    "\n",
    "import mytool\n",
    "tool = mytool.Wiz()\n",
    "\n",
    "def ReloadHeaderFile()->None:\n",
    "    \n",
    "    from mytool import visualizer\n",
    "    from mytool import analyser\n",
    "    from mytool import dataloader\n",
    "\n",
    "ReloadHeaderFile()"
   ]
  },
  {
   "cell_type": "code",
   "execution_count": null,
   "metadata": {},
   "outputs": [],
   "source": [
    "dataset_information={\n",
    "    'day':'24Oct',\n",
    "    'month':'10',\n",
    "    'drone':'2',\n",
    "    'time_period':'0900_0930',\n",
    "    'road':'Panepistimiou',\n",
    "    'intersection':'Panepistimiou-Omirou'\n",
    "    }\n",
    "\n",
    "nickname = f'Drone{dataset_information.get('drone')}_{dataset_information.get('day')}_{dataset_information.get('time_period')}'\n",
    "file_path= f'DatasetExample/2018{dataset_information.get('month')}{dataset_information.get('day')[:2]}_d{dataset_information.get('drone')}_{dataset_information.get('time_period')}.csv'"
   ]
  },
  {
   "cell_type": "code",
   "execution_count": null,
   "metadata": {},
   "outputs": [],
   "source": [
    "#sampling period must be integer multiple of 0.04\n",
    "sampling_period_dataloading=0.2\n",
    "time_decimals=1\n",
    "#===========================================================================================\n",
    "import sys\n",
    "sys.path.append(r'C:\\Users\\kpourg01\\Desktop\\tool materials')\n",
    "\n",
    "import DatasetExample.DataExamplePneuma as DEP\n",
    "\n",
    "Raw_VD = DEP.getInfo_PNEUMA(file_path=file_path, sampling_period=sampling_period_dataloading, time_decimals=time_decimals, position_smoothing=2)"
   ]
  },
  {
   "cell_type": "code",
   "execution_count": null,
   "metadata": {},
   "outputs": [],
   "source": [
    "sampling_period_flowcount=1\n",
    "sampling_frequency = 1/sampling_period_flowcount\n",
    "#----------------------------------------------------\n",
    "time_axis = np.round(np.arange(min([min(set) for set in Raw_VD.get('time')]),max([max(set) for set in Raw_VD.get('time')])+sampling_period_flowcount,sampling_period_flowcount),decimals=time_decimals).tolist()\n",
    "#----------------------------------------------------\n",
    "WGS=True\n",
    "#----------------------------------------------------\n",
    "ll_lat,ll_lon = 37.97811671602297, 23.733975874806358\n",
    "lr_lat,lr_lon = 37.97876143771719, 23.735210640421347\n",
    "ur_lat,ur_lon = 37.97938790250702, 23.734674127747873\n",
    "ul_lat,ul_lon = 37.97874587304865, 23.73345028699124\n",
    "#----------------------------------------------------\n",
    "clat,clon = 37.97866950849114, 23.734362398006162\n",
    "#----------------------------------------------------\n",
    "bbox = [(ll_lat,ll_lon), \n",
    "        (lr_lat,lr_lon),\n",
    "        (ur_lat,ur_lon),\n",
    "        (ul_lat,ul_lon)]\n",
    "#----------------------------------------------------\n",
    "SpatioTemporalInfo  =  {\n",
    "                        'WGS':WGS,\n",
    "                        'bbox':bbox,\n",
    "                        'x center': clon,\n",
    "                        'y center': clat,\n",
    "                        'time axis': time_axis\n",
    "                        }"
   ]
  },
  {
   "cell_type": "code",
   "execution_count": null,
   "metadata": {},
   "outputs": [],
   "source": [
    "cursed_ids={}\n",
    "#================================================================\n",
    "cursed_ids['24Oct_0900_0930']=[208,1442,75,2450,140,1151,1469,628,2941,154,917]\n",
    "cursed_ids['24Oct_0930_1000']=[257,2379,1482,2446,2716,270]\n",
    "cursed_ids['24Oct_1000_1030']=[47,1015,1599,2415,1306,1018,1118,1948,1810,1286,105]\n",
    "cursed_ids['24Oct_1030_1100']= []\n",
    "#================================================================\n",
    "cursed_ids['29Oct_0800_0830']=[]\n",
    "cursed_ids['29Oct_0830_0900']=[]\n",
    "cursed_ids['29Oct_0900_0930']=[184,570,2014,2497,158]\n",
    "cursed_ids['29Oct_0930_1000']=[]\n",
    "cursed_ids['29Oct_1000_1030']=[]\n",
    "#================================================================\n",
    "cursed_ids['30Oct_0800_0830']=[145,1544,157,310,183,154,305,461,312,174,453] \n",
    "cursed_ids['30Oct_0830_0900']=[]\n",
    "cursed_ids['30Oct_0900_0930']=[]\n",
    "#================================================================\n",
    "cursed_ids['01Nov_0800_0830']=[]\n",
    "cursed_ids['01Nov_0830_0900']=[1130]\n",
    "cursed_ids['01Nov_0900_0930']=[]\n",
    "cursed_ids['01Nov_0930_1000']=[123,1498]\n",
    "cursed_ids['01Nov_1000_1030']=[]\n",
    "#================================================================"
   ]
  },
  {
   "cell_type": "code",
   "execution_count": null,
   "metadata": {},
   "outputs": [],
   "source": [
    "ReloadHeaderFile()\n",
    "#-----------------------------------------------------------------------\n",
    "DataLoader = tool.DataLoader(Raw_VD=Raw_VD, WGS=WGS, bbox=bbox)\n",
    "Filtered_VD = DataLoader.get_Filtered_VD(cursed_ids=cursed_ids[f'{dataset_information.get('day')}_{dataset_information.get('time_period')}'])\n",
    "#-----------------------------------------------------------------------\n",
    "Analysis = tool.Analysis(Filtered_VD,SpatioTemporalInfo)\n",
    "Visualization = tool.Visualization(Filtered_VD, SpatioTemporalInfo)"
   ]
  },
  {
   "cell_type": "code",
   "execution_count": null,
   "metadata": {},
   "outputs": [],
   "source": [
    "OD_pairs = Analysis.get_ODPairs()\n",
    "valid_OD_pairs = [(1,3),(1,2),(4,3),(4,2)]\n",
    "Visualization.get_TrajectoriesOD(valid_OD_pairs)"
   ]
  },
  {
   "cell_type": "code",
   "execution_count": null,
   "metadata": {},
   "outputs": [],
   "source": [
    "ReloadHeaderFile()\n",
    "#----------------------------------------------------------------------\n",
    "VD_13_12 = Analysis.get_OD_VD(desirable_pairs=[(1,3),(1,2)])\n",
    "Analysis_13_12 = tool.Analysis(VD_13_12,SpatioTemporalInfo)\n",
    "Visualization_13_12 = tool.Visualization(VD_13_12,SpatioTemporalInfo)\n",
    "#----------------------------------------------------------------------\n",
    "VD_43_42 = Analysis.get_OD_VD(desirable_pairs=[(4,3),(4,2)])\n",
    "Analysis_43_42 = tool.Analysis(VD_43_42,SpatioTemporalInfo)\n",
    "Visualization_43_42 = tool.Visualization(VD_43_42,SpatioTemporalInfo)"
   ]
  },
  {
   "cell_type": "code",
   "execution_count": null,
   "metadata": {},
   "outputs": [],
   "source": [
    "lane_info_13_12 = Analysis_13_12.get_LaneInfo(flow_direction='up',color='purple')"
   ]
  },
  {
   "cell_type": "code",
   "execution_count": null,
   "metadata": {},
   "outputs": [],
   "source": [
    "lane_info_43_42 = Analysis_43_42.get_LaneInfo(flow_direction='left',color='orange')"
   ]
  },
  {
   "cell_type": "code",
   "execution_count": null,
   "metadata": {},
   "outputs": [],
   "source": [
    "sorted_id_13_12 =Analysis_13_12.get_SortedId()\n",
    "gaps_13_12 = Analysis_13_12.get_Gaps()\n",
    "#-=============================================\n",
    "sorted_id_43_42 = Analysis_43_42.get_SortedId()\n",
    "gaps_43_42 = Analysis_43_42.get_Gaps()"
   ]
  },
  {
   "cell_type": "code",
   "execution_count": null,
   "metadata": {},
   "outputs": [],
   "source": [
    "detector_positions_13_12 = [\n",
    "                            (37.978598063851116, 23.73433701749522),\n",
    "                            (37.97861444910225, 23.73438060338954),\n",
    "                            (37.978632948574926, 23.734412119343897),\n",
    "                            (37.978652505155274, 23.734447658611572),\n",
    "                            (37.978666776170066, 23.734481856774803)\n",
    "                            ]\n",
    "#---------------------------\n",
    "flow_info_13_12 =Analysis_13_12.get_FlowInfo(detector_positions_13_12)\n",
    "flow_13_12,normalized_flow_13_12 = Analysis_13_12.get_NormalizedFlow(threshold=10)\n",
    "#============================\n",
    "detector_positions_43_42 = [(37.97872544586954, 23.73444095309425)]\n",
    "#----------------------------\n",
    "flow_info_43_42 = Analysis_43_42.get_FlowInfo(detector_positions_43_42)\n",
    "flow_43_42,normalized_flow_43_42 = Analysis_43_42.get_NormalizedFlow(threshold=15)"
   ]
  },
  {
   "cell_type": "code",
   "execution_count": null,
   "metadata": {},
   "outputs": [],
   "source": [
    "print(f'flow counts main: {sum(flow_13_12)}, max vehicles: {len(VD_13_12.get('id'))}')\n",
    "print(f'\\nflow counts secondary: {sum(flow_43_42)}, max vehicles: {len(VD_43_42.get('id'))}')"
   ]
  },
  {
   "cell_type": "code",
   "execution_count": null,
   "metadata": {},
   "outputs": [],
   "source": [
    "plt.figure(figsize=(22,3))\n",
    "plt.title('Flow vs Time')\n",
    "\n",
    "plt.plot(time_axis,normalized_flow_13_12,color='purple',alpha=1, label=f'{dataset_information.get('road')} Detector',linewidth=2)\n",
    "#plt.plot(time_axis,flow_13_12,color='purple',label='raw flow',alpha=0.4)\n",
    "#---------------------------------------------------------------------------------------------------------------------------------------------------------------------------------------------\n",
    "plt.plot(time_axis,normalized_flow_43_42,color='orange',alpha=1,label=f'{dataset_information.get('intersection')[dataset_information.get('intersection').index('-')+1:]} Detector',linewidth=2)\n",
    "#plt.plot(time_axis,flow_43_42,color='orange',label='raw flow',alpha=1)\n",
    "\n",
    "plt.xlabel('Time (s)')\n",
    "plt.yticks([0,1],['Detector OFF','Detector ON'])\n",
    "plt.xticks(np.arange(0,time_axis[-1],25))\n",
    "plt.ylim(-0.1,2)\n",
    "\n",
    "\n",
    "activate_zoom = False\n",
    "#===================================\n",
    "if activate_zoom:\n",
    "    lowlim,highlim=275,300\n",
    "    plt.xlim(lowlim,highlim)\n",
    "    plt.xticks(np.arange(lowlim,highlim+sampling_period_flowcount,sampling_period_flowcount))\n",
    "    Analysis_43_42.get_CursedId(lowlim,highlim)\n",
    "#===================================\n",
    "\n",
    "plt.legend()\n",
    "plt.tight_layout()\n",
    "plt.show(close=True)"
   ]
  },
  {
   "cell_type": "code",
   "execution_count": null,
   "metadata": {},
   "outputs": [],
   "source": [
    "tlp_13_12 = Analysis_13_12.get_TrafficLightPhases()\n",
    "tlp_43_42 = Analysis_43_42.get_TrafficLightPhases()\n",
    "#==================================================\n",
    "cycles = Analysis.get_TrafficLightCycles(tlp_13_12,tlp_43_42)"
   ]
  },
  {
   "cell_type": "code",
   "execution_count": null,
   "metadata": {},
   "outputs": [],
   "source": [
    "queue_info_13_12 = Analysis_13_12.get_QueueInfo(speed_threshold=30, gap_threshold=10)\n",
    "queue_info_43_42 = Analysis_43_42.get_QueueInfo(speed_threshold=30, gap_threshold=10)"
   ]
  }
 ],
 "metadata": {
  "kernelspec": {
   "display_name": "KIOS",
   "language": "python",
   "name": "python3"
  },
  "language_info": {
   "codemirror_mode": {
    "name": "ipython",
    "version": 3
   },
   "file_extension": ".py",
   "mimetype": "text/x-python",
   "name": "python",
   "nbconvert_exporter": "python",
   "pygments_lexer": "ipython3",
   "version": "3.12.8"
  }
 },
 "nbformat": 4,
 "nbformat_minor": 2
}
